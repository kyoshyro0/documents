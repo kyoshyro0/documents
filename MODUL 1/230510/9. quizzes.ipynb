{
 "cells": [
  {
   "cell_type": "markdown",
   "id": "23a6eac4",
   "metadata": {},
   "source": [
    "## quiz 1"
   ]
  },
  {
   "cell_type": "code",
   "execution_count": 1,
   "id": "60d9211d",
   "metadata": {},
   "outputs": [
    {
     "name": "stdout",
     "output_type": "stream",
     "text": [
      "5\n"
     ]
    }
   ],
   "source": [
    "# quiz 1\n",
    "index = 5\n",
    "def my_function():\n",
    "    print(index)\n",
    "\n",
    "    \n",
    "my_function()"
   ]
  },
  {
   "cell_type": "code",
   "execution_count": 2,
   "id": "b3a35ce5",
   "metadata": {},
   "outputs": [
    {
     "name": "stdout",
     "output_type": "stream",
     "text": [
      "5\n"
     ]
    }
   ],
   "source": [
    "# quiz 2\n",
    "index = 5\n",
    "def my_function():\n",
    "    data = index + 1\n",
    "    print(index)\n",
    "\n",
    "my_function()"
   ]
  },
  {
   "cell_type": "code",
   "execution_count": 5,
   "id": "50840946",
   "metadata": {},
   "outputs": [
    {
     "name": "stdout",
     "output_type": "stream",
     "text": [
      "1\n"
     ]
    }
   ],
   "source": [
    "# quiz 3\n",
    "index = 5\n",
    "def my_function():\n",
    "    index_local = index_local + 1\n",
    "    # index += 1\n",
    "    print(index_local)\n",
    "\n",
    "my_function()"
   ]
  },
  {
   "cell_type": "code",
   "execution_count": 3,
   "id": "25bd486f",
   "metadata": {},
   "outputs": [
    {
     "name": "stdout",
     "output_type": "stream",
     "text": [
      "8\n"
     ]
    }
   ],
   "source": [
    "# quiz 4\n",
    "index = 5\n",
    "def my_function(index):\n",
    "    index = index + 1\n",
    "    print(index)\n",
    "\n",
    "my_function(7)"
   ]
  },
  {
   "cell_type": "code",
   "execution_count": null,
   "id": "d88355ca",
   "metadata": {},
   "outputs": [],
   "source": []
  },
  {
   "cell_type": "code",
   "execution_count": null,
   "id": "c2d91b74",
   "metadata": {},
   "outputs": [],
   "source": [
    "print(0.3 - 0.2)\n",
    "print(0.1 + 0.1 + 0.1)"
   ]
  },
  {
   "cell_type": "code",
   "execution_count": null,
   "id": "0059dc0a",
   "metadata": {},
   "outputs": [],
   "source": []
  },
  {
   "cell_type": "markdown",
   "id": "9a07335e",
   "metadata": {},
   "source": [
    "## quizz 2"
   ]
  },
  {
   "cell_type": "code",
   "execution_count": 1,
   "id": "caff07e3",
   "metadata": {},
   "outputs": [
    {
     "name": "stdout",
     "output_type": "stream",
     "text": [
      "[1, 5, -4, 3, -2]\n",
      "[1, 5, 0, 3, 0]\n"
     ]
    }
   ],
   "source": [
    "# quiz 1\n",
    "data = [1, 5, -4, 3, -2]\n",
    "print(data)\n",
    "\n",
    "data_a = [x if x>0 else 0 for x in data]\n",
    "print(data_a)"
   ]
  },
  {
   "cell_type": "code",
   "execution_count": 2,
   "id": "50205bb1",
   "metadata": {},
   "outputs": [
    {
     "ename": "SyntaxError",
     "evalue": "invalid syntax (187768202.py, line 5)",
     "output_type": "error",
     "traceback": [
      "\u001b[1;36m  Input \u001b[1;32mIn [2]\u001b[1;36m\u001b[0m\n\u001b[1;33m    data_a = [x if x>0 for x in data]\u001b[0m\n\u001b[1;37m                       ^\u001b[0m\n\u001b[1;31mSyntaxError\u001b[0m\u001b[1;31m:\u001b[0m invalid syntax\n"
     ]
    }
   ],
   "source": [
    "# quiz 2\n",
    "data = [1, 5, -4, 3, -2]\n",
    "print(data)\n",
    "\n",
    "data_a = [x if x>0 for x in data]\n",
    "print(data_a)"
   ]
  },
  {
   "cell_type": "code",
   "execution_count": 3,
   "id": "2143c9d5",
   "metadata": {},
   "outputs": [
    {
     "name": "stdout",
     "output_type": "stream",
     "text": [
      "[1, 5, -4, 3, -2]\n",
      "[1, 5, 3]\n"
     ]
    }
   ],
   "source": [
    "# quiz 3\n",
    "data = [1, 5, -4, 3, -2]\n",
    "print(data)\n",
    "\n",
    "data_a = [x for x in data if x>0]\n",
    "print(data_a)"
   ]
  },
  {
   "cell_type": "code",
   "execution_count": 4,
   "id": "361b9843",
   "metadata": {},
   "outputs": [
    {
     "ename": "SyntaxError",
     "evalue": "invalid syntax (3995732807.py, line 5)",
     "output_type": "error",
     "traceback": [
      "\u001b[1;36m  Input \u001b[1;32mIn [4]\u001b[1;36m\u001b[0m\n\u001b[1;33m    data_a = [x for x in data if x>0 else 0]\u001b[0m\n\u001b[1;37m                                     ^\u001b[0m\n\u001b[1;31mSyntaxError\u001b[0m\u001b[1;31m:\u001b[0m invalid syntax\n"
     ]
    }
   ],
   "source": [
    "# quiz 4\n",
    "data = [1, 5, -4, 3, -2]\n",
    "print(data)\n",
    "\n",
    "data_a = [x for x in data if x>0 else 0]\n",
    "print(data_a)"
   ]
  },
  {
   "cell_type": "code",
   "execution_count": null,
   "id": "daf28030",
   "metadata": {},
   "outputs": [],
   "source": []
  },
  {
   "cell_type": "markdown",
   "id": "1cfa09fc",
   "metadata": {},
   "source": [
    "## Quiz 3"
   ]
  },
  {
   "cell_type": "code",
   "execution_count": null,
   "id": "57f6b764",
   "metadata": {},
   "outputs": [],
   "source": []
  },
  {
   "cell_type": "code",
   "execution_count": null,
   "id": "d155cfe3",
   "metadata": {},
   "outputs": [],
   "source": []
  },
  {
   "cell_type": "code",
   "execution_count": null,
   "id": "47a01e13",
   "metadata": {},
   "outputs": [],
   "source": []
  },
  {
   "cell_type": "code",
   "execution_count": null,
   "id": "28cb53d3",
   "metadata": {},
   "outputs": [],
   "source": []
  },
  {
   "cell_type": "code",
   "execution_count": null,
   "id": "ca7907b8",
   "metadata": {},
   "outputs": [],
   "source": []
  },
  {
   "cell_type": "code",
   "execution_count": null,
   "id": "39e1f69a",
   "metadata": {},
   "outputs": [],
   "source": []
  },
  {
   "cell_type": "code",
   "execution_count": null,
   "id": "0a7452cf",
   "metadata": {},
   "outputs": [],
   "source": []
  },
  {
   "cell_type": "code",
   "execution_count": null,
   "id": "aa29498a",
   "metadata": {},
   "outputs": [],
   "source": []
  },
  {
   "cell_type": "code",
   "execution_count": null,
   "id": "b132a299",
   "metadata": {},
   "outputs": [],
   "source": []
  },
  {
   "cell_type": "code",
   "execution_count": null,
   "id": "c2d4f623",
   "metadata": {},
   "outputs": [],
   "source": []
  },
  {
   "cell_type": "code",
   "execution_count": null,
   "id": "d4a77e99",
   "metadata": {},
   "outputs": [],
   "source": []
  },
  {
   "cell_type": "code",
   "execution_count": null,
   "id": "fa12e4a9",
   "metadata": {},
   "outputs": [],
   "source": []
  },
  {
   "cell_type": "code",
   "execution_count": null,
   "id": "a0a7a637",
   "metadata": {},
   "outputs": [],
   "source": []
  },
  {
   "cell_type": "code",
   "execution_count": null,
   "id": "d1dc890b",
   "metadata": {},
   "outputs": [],
   "source": []
  },
  {
   "cell_type": "code",
   "execution_count": null,
   "id": "f3b64fbe",
   "metadata": {},
   "outputs": [],
   "source": []
  }
 ],
 "metadata": {
  "kernelspec": {
   "display_name": "Python 3 (ipykernel)",
   "language": "python",
   "name": "python3"
  },
  "language_info": {
   "codemirror_mode": {
    "name": "ipython",
    "version": 3
   },
   "file_extension": ".py",
   "mimetype": "text/x-python",
   "name": "python",
   "nbconvert_exporter": "python",
   "pygments_lexer": "ipython3",
   "version": "3.8.2"
  }
 },
 "nbformat": 4,
 "nbformat_minor": 5
}
