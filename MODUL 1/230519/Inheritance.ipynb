{
 "cells": [
  {
   "cell_type": "markdown",
   "id": "f67307b7",
   "metadata": {},
   "source": [
    "## Math problem"
   ]
  },
  {
   "cell_type": "code",
   "execution_count": null,
   "id": "d7721cac",
   "metadata": {},
   "outputs": [],
   "source": [
    "class Math1:\n",
    "    def isEven(self, number):\n",
    "        if number%2:\n",
    "            return False\n",
    "        else:\n",
    "            return True\n",
    "    \n",
    "    def factorial(self, number):\n",
    "        result = 1\n",
    "        \n",
    "        for i in range(1, number+1):\n",
    "            result = result*i\n",
    "            \n",
    "        return result"
   ]
  },
  {
   "cell_type": "code",
   "execution_count": null,
   "id": "fc3107ea",
   "metadata": {},
   "outputs": [],
   "source": [
    "# test Math1\n",
    "math1 = Math1()\n",
    "\n",
    "# isEven() sample: number=5 -> False\n",
    "# isEven() sample: number=6 -> True\n",
    "print(math1.isEven(5))\n",
    "print(math1.isEven(6))\n",
    "\n",
    "# factorial() sample: number=4 -> 24\n",
    "# factorial() sample: number=5 -> 120\n",
    "print(math1.factorial(4))\n",
    "print(math1.factorial(5))"
   ]
  },
  {
   "cell_type": "code",
   "execution_count": null,
   "id": "2c456289",
   "metadata": {},
   "outputs": [],
   "source": []
  },
  {
   "cell_type": "code",
   "execution_count": null,
   "id": "6adadeae",
   "metadata": {},
   "outputs": [],
   "source": []
  },
  {
   "cell_type": "code",
   "execution_count": null,
   "id": "ea6e784a",
   "metadata": {},
   "outputs": [],
   "source": [
    "class Math2:\n",
    "    def isEven(self, number):\n",
    "        if number%2:\n",
    "            return False\n",
    "        else:\n",
    "            return True\n",
    "    \n",
    "    def factorial(self, number):\n",
    "        result = 1\n",
    "        \n",
    "        for i in range(1, number+1):\n",
    "            result = result*i\n",
    "            \n",
    "        return result\n",
    "    \n",
    "    def estimateEuler(self, number):\n",
    "        result = 1\n",
    "        \n",
    "        for i in range(1, number+1):\n",
    "            result = result + 1/self.factorial(i)\n",
    "            \n",
    "        return result"
   ]
  },
  {
   "cell_type": "code",
   "execution_count": null,
   "id": "7de93560",
   "metadata": {},
   "outputs": [],
   "source": [
    "# test Math2\n",
    "math2 = Math2()\n",
    "\n",
    "# isEven() sample: number=5 -> False\n",
    "# isEven() sample: number=6 -> True\n",
    "print(math2.isEven(5))\n",
    "print(math2.isEven(6))\n",
    "\n",
    "# factorial() sample: number=4 -> 24\n",
    "# factorial() sample: number=5 -> 120\n",
    "print(math2.factorial(4))\n",
    "print(math2.factorial(5))\n",
    "\n",
    "# estimateEuler() sample: number=2 -> 2.5\n",
    "# estimateEuler() sample: number=8 -> 2.71\n",
    "print(math2.estimateEuler(2))\n",
    "print(math2.estimateEuler(8))"
   ]
  },
  {
   "cell_type": "code",
   "execution_count": null,
   "id": "3f0f4c96",
   "metadata": {},
   "outputs": [],
   "source": []
  },
  {
   "cell_type": "code",
   "execution_count": null,
   "id": "d0fb932a",
   "metadata": {},
   "outputs": [],
   "source": [
    "# using inheritance"
   ]
  },
  {
   "cell_type": "code",
   "execution_count": null,
   "id": "27b12983",
   "metadata": {},
   "outputs": [],
   "source": [
    "class Math1:\n",
    "    def isEven(self, number):\n",
    "        if number%2:\n",
    "            return False\n",
    "        else:\n",
    "            return True\n",
    "    \n",
    "    def factorial(self, number):\n",
    "        result = 1\n",
    "        \n",
    "        for i in range(1, number+1):\n",
    "            result = result*i\n",
    "            \n",
    "        return result"
   ]
  },
  {
   "cell_type": "code",
   "execution_count": null,
   "id": "df54ff69",
   "metadata": {},
   "outputs": [],
   "source": [
    "class Math2(Math1):    \n",
    "    def estimateEuler(self, number):\n",
    "        result = 1\n",
    "        \n",
    "        for i in range(1, number+1):\n",
    "            result = result + 1/self.factorial(i)\n",
    "            \n",
    "        return result"
   ]
  },
  {
   "cell_type": "code",
   "execution_count": null,
   "id": "e015ff71",
   "metadata": {},
   "outputs": [],
   "source": [
    "# test Math2\n",
    "math2 = Math2()\n",
    "\n",
    "# isEven() sample: number=5 -> False\n",
    "# isEven() sample: number=6 -> True\n",
    "print(math2.isEven(5))\n",
    "print(math2.isEven(6))\n",
    "\n",
    "# factorial() sample: number=4 -> 24\n",
    "# factorial() sample: number=5 -> 120\n",
    "print(math2.factorial(4))\n",
    "print(math2.factorial(5))\n",
    "\n",
    "# estimateEuler() sample: number=2 -> 2.5\n",
    "# estimateEuler() sample: number=8 -> 2.71\n",
    "print(math2.estimateEuler(2))\n",
    "print(math2.estimateEuler(8))"
   ]
  },
  {
   "cell_type": "code",
   "execution_count": null,
   "id": "09437d30",
   "metadata": {},
   "outputs": [],
   "source": []
  },
  {
   "cell_type": "code",
   "execution_count": null,
   "id": "869dc9ff",
   "metadata": {},
   "outputs": [],
   "source": []
  },
  {
   "cell_type": "code",
   "execution_count": 1,
   "id": "f4263a5e",
   "metadata": {},
   "outputs": [],
   "source": [
    "class Math1:\n",
    "    def isEven(self, number):\n",
    "        if number%2:\n",
    "            return False\n",
    "        else:\n",
    "            return True\n",
    "    \n",
    "    def factorial(self, number):\n",
    "        result = 1\n",
    "        \n",
    "        for i in range(1, number+1):\n",
    "            result = result*i\n",
    "            \n",
    "        return result"
   ]
  },
  {
   "cell_type": "code",
   "execution_count": 4,
   "id": "e15ba00b",
   "metadata": {},
   "outputs": [],
   "source": [
    "class Math2(Math1):    \n",
    "    def estimateEuler(self, number):\n",
    "        result = 1\n",
    "        \n",
    "        for i in range(1, number+1):\n",
    "            result = result + 1/super().factorial(i)\n",
    "            \n",
    "        return result"
   ]
  },
  {
   "cell_type": "code",
   "execution_count": 5,
   "id": "5daf803b",
   "metadata": {},
   "outputs": [
    {
     "name": "stdout",
     "output_type": "stream",
     "text": [
      "False\n",
      "True\n",
      "24\n",
      "120\n",
      "2.5\n",
      "2.71827876984127\n"
     ]
    }
   ],
   "source": [
    "# test Math2\n",
    "math2 = Math2()\n",
    "\n",
    "# isEven() sample: number=5 -> False\n",
    "# isEven() sample: number=6 -> True\n",
    "print(math2.isEven(5))\n",
    "print(math2.isEven(6))\n",
    "\n",
    "# factorial() sample: number=4 -> 24\n",
    "# factorial() sample: number=5 -> 120\n",
    "print(math2.factorial(4))\n",
    "print(math2.factorial(5))\n",
    "\n",
    "# estimateEuler() sample: number=2 -> 2.5\n",
    "# estimateEuler() sample: number=8 -> 2.71\n",
    "print(math2.estimateEuler(2))\n",
    "print(math2.estimateEuler(8))"
   ]
  },
  {
   "cell_type": "code",
   "execution_count": null,
   "id": "4fda574b",
   "metadata": {},
   "outputs": [],
   "source": []
  },
  {
   "cell_type": "code",
   "execution_count": null,
   "id": "50a32bb0",
   "metadata": {},
   "outputs": [],
   "source": []
  },
  {
   "cell_type": "markdown",
   "id": "af6b7fb0",
   "metadata": {},
   "source": [
    "## Employee problem"
   ]
  },
  {
   "cell_type": "code",
   "execution_count": null,
   "id": "a7e8ec28",
   "metadata": {},
   "outputs": [],
   "source": [
    "class Employee:\n",
    "    def __init__(self, name, salary):\n",
    "        self.__name = name\n",
    "        self.__salary = salary\n",
    "        \n",
    "    def computeSalary(self):\n",
    "        return self.__salary"
   ]
  },
  {
   "cell_type": "code",
   "execution_count": null,
   "id": "dab8ca89",
   "metadata": {},
   "outputs": [],
   "source": [
    "class Manager():\n",
    "    def __init__(self, name, salary, bonus):\n",
    "        self.__name = name\n",
    "        self.__salary = salary\n",
    "        self.__bonus = bonus\n",
    "        \n",
    "    def computeSalary(self):\n",
    "        return self.__salary + self.__bonus"
   ]
  },
  {
   "cell_type": "code",
   "execution_count": null,
   "id": "d312d662",
   "metadata": {},
   "outputs": [],
   "source": []
  },
  {
   "cell_type": "code",
   "execution_count": null,
   "id": "3f84eda0",
   "metadata": {},
   "outputs": [],
   "source": []
  },
  {
   "cell_type": "code",
   "execution_count": null,
   "id": "7be9845e",
   "metadata": {},
   "outputs": [],
   "source": []
  },
  {
   "cell_type": "code",
   "execution_count": null,
   "id": "686c7b6b",
   "metadata": {},
   "outputs": [],
   "source": []
  },
  {
   "cell_type": "code",
   "execution_count": 1,
   "id": "af91daf6",
   "metadata": {},
   "outputs": [],
   "source": [
    "class Employee:\n",
    "    def __init__(self, name, salary):\n",
    "        self._name = name\n",
    "        self._salary = salary\n",
    "        \n",
    "    def computeSalary(self):\n",
    "        return self._salary\n",
    "    \n",
    "class Manager(Employee):\n",
    "    def __init__(self, name, salary, bonus):\n",
    "        self._name = name\n",
    "        self._salary = salary\n",
    "        self.__bonus = bonus\n",
    "        \n",
    "    def computeSalary(self):\n",
    "        return super().computeSalary() + self.__bonus"
   ]
  },
  {
   "cell_type": "code",
   "execution_count": 2,
   "id": "d99c716d",
   "metadata": {},
   "outputs": [
    {
     "name": "stdout",
     "output_type": "stream",
     "text": [
      "Peter Salary: 120\n"
     ]
    }
   ],
   "source": [
    "peter = Manager('Peter', 100, 20)\n",
    "salary = peter.computeSalary()\n",
    "print(f'Peter Salary: {salary}')"
   ]
  },
  {
   "cell_type": "code",
   "execution_count": null,
   "id": "388ac64b",
   "metadata": {},
   "outputs": [],
   "source": []
  },
  {
   "cell_type": "markdown",
   "id": "6270b225",
   "metadata": {},
   "source": [
    "## Shape"
   ]
  },
  {
   "cell_type": "code",
   "execution_count": 9,
   "id": "b82082e9",
   "metadata": {},
   "outputs": [],
   "source": [
    "from abc import ABC, abstractmethod\n",
    "\n",
    "class Shape(ABC):\n",
    "    @abstractmethod\n",
    "    def computeArea(self):\n",
    "        return 5    "
   ]
  },
  {
   "cell_type": "code",
   "execution_count": null,
   "id": "4989e0d4",
   "metadata": {},
   "outputs": [],
   "source": []
  },
  {
   "cell_type": "code",
   "execution_count": 10,
   "id": "911df673",
   "metadata": {},
   "outputs": [],
   "source": [
    "class Square(Shape):\n",
    "    def __init__(self, side):\n",
    "        self.__side = side\n",
    "        \n",
    "    def computeArea(self):\n",
    "        return super().computeArea()"
   ]
  },
  {
   "cell_type": "code",
   "execution_count": 11,
   "id": "8886c1a5",
   "metadata": {},
   "outputs": [
    {
     "ename": "TypeError",
     "evalue": "Can't instantiate abstract class Square with abstract method computeArea",
     "output_type": "error",
     "traceback": [
      "\u001b[1;31m---------------------------------------------------------------------------\u001b[0m",
      "\u001b[1;31mTypeError\u001b[0m                                 Traceback (most recent call last)",
      "Input \u001b[1;32mIn [11]\u001b[0m, in \u001b[0;36m<cell line: 1>\u001b[1;34m()\u001b[0m\n\u001b[1;32m----> 1\u001b[0m square \u001b[38;5;241m=\u001b[39m \u001b[43mSquare\u001b[49m\u001b[43m(\u001b[49m\u001b[38;5;241;43m5\u001b[39;49m\u001b[43m)\u001b[49m\n",
      "\u001b[1;31mTypeError\u001b[0m: Can't instantiate abstract class Square with abstract method computeArea"
     ]
    }
   ],
   "source": [
    "square = Square(5)\n",
    "#print(square.computeArea())"
   ]
  },
  {
   "cell_type": "code",
   "execution_count": null,
   "id": "aee87a2e",
   "metadata": {},
   "outputs": [],
   "source": []
  },
  {
   "cell_type": "code",
   "execution_count": 6,
   "id": "f7a8284e",
   "metadata": {},
   "outputs": [],
   "source": [
    "from abc import ABC, abstractmethod\n",
    "\n",
    "class Shape(ABC):\n",
    "    @abstractmethod\n",
    "    def computeArea(self):\n",
    "        pass"
   ]
  },
  {
   "cell_type": "code",
   "execution_count": 7,
   "id": "ae77dfbf",
   "metadata": {},
   "outputs": [],
   "source": [
    "class Cicle(Shape):\n",
    "    def __init__(self, radius):\n",
    "        self.__radius = radius"
   ]
  },
  {
   "cell_type": "code",
   "execution_count": 8,
   "id": "c7917905",
   "metadata": {},
   "outputs": [
    {
     "ename": "TypeError",
     "evalue": "Can't instantiate abstract class Cicle with abstract method computeArea",
     "output_type": "error",
     "traceback": [
      "\u001b[1;31m---------------------------------------------------------------------------\u001b[0m",
      "\u001b[1;31mTypeError\u001b[0m                                 Traceback (most recent call last)",
      "Input \u001b[1;32mIn [8]\u001b[0m, in \u001b[0;36m<cell line: 1>\u001b[1;34m()\u001b[0m\n\u001b[1;32m----> 1\u001b[0m circle \u001b[38;5;241m=\u001b[39m \u001b[43mCicle\u001b[49m\u001b[43m(\u001b[49m\u001b[38;5;241;43m5\u001b[39;49m\u001b[43m)\u001b[49m\n",
      "\u001b[1;31mTypeError\u001b[0m: Can't instantiate abstract class Cicle with abstract method computeArea"
     ]
    }
   ],
   "source": [
    "circle = Cicle(5)"
   ]
  },
  {
   "cell_type": "code",
   "execution_count": null,
   "id": "3e64c5f2",
   "metadata": {},
   "outputs": [],
   "source": []
  },
  {
   "cell_type": "code",
   "execution_count": 11,
   "id": "18aafcab",
   "metadata": {},
   "outputs": [],
   "source": [
    "import math\n",
    "\n",
    "class Cicle(Shape):\n",
    "    def __init__(self, radius):\n",
    "        self.__radius = radius\n",
    "        \n",
    "    def computeArea(self):\n",
    "        return self.__radius*self.__radius*math.pi"
   ]
  },
  {
   "cell_type": "code",
   "execution_count": 12,
   "id": "aea28ebc",
   "metadata": {},
   "outputs": [
    {
     "name": "stdout",
     "output_type": "stream",
     "text": [
      "78.53981633974483\n"
     ]
    }
   ],
   "source": [
    "circle = Cicle(5)\n",
    "print(circle.computeArea())"
   ]
  },
  {
   "cell_type": "code",
   "execution_count": null,
   "id": "430a57c1",
   "metadata": {},
   "outputs": [],
   "source": []
  },
  {
   "cell_type": "markdown",
   "id": "14448f63",
   "metadata": {},
   "source": [
    "## Person - Doctor - Student"
   ]
  },
  {
   "cell_type": "code",
   "execution_count": 18,
   "id": "cb8bcbbc",
   "metadata": {},
   "outputs": [],
   "source": [
    "class Person:\n",
    "    def perform(self):\n",
    "        print('Person activities')\n",
    "        \n",
    "class Doctor(Person):\n",
    "    def perform(self):\n",
    "        print('Doctor activities')\n",
    "        \n",
    "class Student(Person):\n",
    "    def perform(self):\n",
    "        print('Student activities')"
   ]
  },
  {
   "cell_type": "code",
   "execution_count": 19,
   "id": "7bfc8f18",
   "metadata": {},
   "outputs": [
    {
     "name": "stdout",
     "output_type": "stream",
     "text": [
      "Person activities\n"
     ]
    }
   ],
   "source": [
    "person = Person()\n",
    "person.perform()"
   ]
  },
  {
   "cell_type": "code",
   "execution_count": 20,
   "id": "f3ee3b1d",
   "metadata": {},
   "outputs": [
    {
     "name": "stdout",
     "output_type": "stream",
     "text": [
      "Doctor activities\n"
     ]
    }
   ],
   "source": [
    "doctor = Doctor()\n",
    "doctor.perform()"
   ]
  },
  {
   "cell_type": "code",
   "execution_count": 21,
   "id": "566d339c",
   "metadata": {},
   "outputs": [
    {
     "name": "stdout",
     "output_type": "stream",
     "text": [
      "Student activities\n"
     ]
    }
   ],
   "source": [
    "student = Student()\n",
    "student.perform()"
   ]
  },
  {
   "cell_type": "code",
   "execution_count": null,
   "id": "cbb15b2e",
   "metadata": {},
   "outputs": [],
   "source": []
  },
  {
   "cell_type": "code",
   "execution_count": null,
   "id": "3880e68f",
   "metadata": {},
   "outputs": [],
   "source": []
  }
 ],
 "metadata": {
  "kernelspec": {
   "display_name": "Python 3 (ipykernel)",
   "language": "python",
   "name": "python3"
  },
  "language_info": {
   "codemirror_mode": {
    "name": "ipython",
    "version": 3
   },
   "file_extension": ".py",
   "mimetype": "text/x-python",
   "name": "python",
   "nbconvert_exporter": "python",
   "pygments_lexer": "ipython3",
   "version": "3.9.12"
  }
 },
 "nbformat": 4,
 "nbformat_minor": 5
}
