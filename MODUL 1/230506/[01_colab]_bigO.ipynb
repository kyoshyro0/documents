{
  "nbformat": 4,
  "nbformat_minor": 0,
  "metadata": {
    "colab": {
      "provenance": []
    },
    "kernelspec": {
      "name": "python3",
      "display_name": "Python 3"
    },
    "language_info": {
      "name": "python"
    }
  },
  "cells": [
    {
      "cell_type": "markdown",
      "source": [
        "#AI VIET NAM\n",
        "##Algorithm design and anslysis\n",
        "##Big O - Algorithm Analysis\n",
        "**Nguyen Quoc Thai**"
      ],
      "metadata": {
        "id": "TwdATBHAI1z5"
      }
    },
    {
      "cell_type": "code",
      "source": [
        "# aivietnam\n",
        "\n",
        "def linear_search(arr, key):\n",
        "\n",
        "    n = len(arr)\n",
        "    for idx in range(n):\n",
        "\n",
        "        element = arr[idx]\n",
        "        if element == key:\n",
        "            return idx\n",
        "\n",
        "    return -1\n",
        "\n",
        "arr = [1, 2, 10, 15, 23]\n",
        "key = 23\n",
        "linear_search(arr, key)"
      ],
      "metadata": {
        "colab": {
          "base_uri": "https://localhost:8080/"
        },
        "id": "X4czbrcSM-Z8",
        "outputId": "9246b433-c8e5-4847-a18f-e39bd6587721"
      },
      "execution_count": null,
      "outputs": [
        {
          "output_type": "execute_result",
          "data": {
            "text/plain": [
              "4"
            ]
          },
          "metadata": {},
          "execution_count": 1
        }
      ]
    },
    {
      "cell_type": "code",
      "source": [
        "# aivietnam\n",
        "\n",
        "import time\n",
        "start_time = time.time()\n",
        "\n",
        "i = 0\n",
        "while i < 5:\n",
        "    i = i + 1\n",
        "    \n",
        "end_time = time.time()\n",
        "\n",
        "print(end_time-start_time)"
      ],
      "metadata": {
        "colab": {
          "base_uri": "https://localhost:8080/"
        },
        "id": "LfIZpFtZHQ5A",
        "outputId": "eb701817-70be-49f6-b1bd-3b0245588ae6"
      },
      "execution_count": null,
      "outputs": [
        {
          "output_type": "stream",
          "name": "stdout",
          "text": [
            "0.00012874603271484375\n"
          ]
        }
      ]
    },
    {
      "cell_type": "code",
      "source": [
        "#ai vietnam\n",
        "\n",
        "import time\n",
        "start_time = time.time()\n",
        "\n",
        "# run algorithm\n",
        "\n",
        "end_time = time.time()\n",
        "\n",
        "print(end_time-start_time)"
      ],
      "metadata": {
        "id": "z-3eZgZCHvNk"
      },
      "execution_count": null,
      "outputs": []
    },
    {
      "cell_type": "code",
      "source": [
        "#aivietnam\n",
        "\n",
        "number_a = 10\n",
        "number_b = number_a\n",
        "number_a + number_b"
      ],
      "metadata": {
        "colab": {
          "base_uri": "https://localhost:8080/"
        },
        "id": "KZ4V6nmTrqDn",
        "outputId": "3038cd66-8e49-414a-c510-caaa2919ac52"
      },
      "execution_count": null,
      "outputs": [
        {
          "output_type": "execute_result",
          "data": {
            "text/plain": [
              "20"
            ]
          },
          "metadata": {},
          "execution_count": 3
        }
      ]
    },
    {
      "cell_type": "code",
      "source": [
        "#aivietnam\n",
        "\n",
        "number_a = 10\n",
        "number_b = number_a\n",
        "number_a > number_b"
      ],
      "metadata": {
        "colab": {
          "base_uri": "https://localhost:8080/"
        },
        "id": "sYa1YGe6saEO",
        "outputId": "43fcda5f-06b3-4631-d727-8e5de9011d2c"
      },
      "execution_count": null,
      "outputs": [
        {
          "output_type": "execute_result",
          "data": {
            "text/plain": [
              "False"
            ]
          },
          "metadata": {},
          "execution_count": 4
        }
      ]
    },
    {
      "cell_type": "code",
      "source": [
        "#aivietnam\n",
        "\n",
        "def find_max_number(number_a, number_b):\n",
        "    number_max = 0\n",
        "    if number_a > number_b:\n",
        "        number_max = number_a\n",
        "    else:\n",
        "        number_max = number_b\n",
        "    return number_max\n",
        "\n",
        "print(find_max_number(5, 7))\n",
        "\n",
        "\n",
        "number_a = -5\n",
        "number_b = 8\n",
        "print(find_max_number(number_a, number_b))"
      ],
      "metadata": {
        "colab": {
          "base_uri": "https://localhost:8080/"
        },
        "id": "9a7Gj5oXfWf0",
        "outputId": "822e35c1-4427-4b74-da38-0dac653a9cee"
      },
      "execution_count": null,
      "outputs": [
        {
          "output_type": "stream",
          "name": "stdout",
          "text": [
            "7\n",
            "8\n"
          ]
        }
      ]
    },
    {
      "cell_type": "code",
      "source": [
        "# aivietnam\n",
        "\n",
        "import math\n",
        "\n",
        "def function_3(a, b):\n",
        "    result = 0\n",
        "\n",
        "    if a>0:\n",
        "        result = b*b\n",
        "        result = result + a\n",
        "    elif a<0:\n",
        "        result = math.sqrt(b)\n",
        "    return result\n",
        "\n",
        "print(function_3(2, 4))\n",
        "\n",
        "\n",
        "print(function_3(-2, 4))"
      ],
      "metadata": {
        "colab": {
          "base_uri": "https://localhost:8080/"
        },
        "id": "S-OO2p8Pi972",
        "outputId": "37bbba20-0c52-446b-cba9-163e6379b184"
      },
      "execution_count": null,
      "outputs": [
        {
          "output_type": "stream",
          "name": "stdout",
          "text": [
            "18\n",
            "2.0\n"
          ]
        }
      ]
    },
    {
      "cell_type": "code",
      "source": [
        "# aivietnam\n",
        "\n",
        "n = 5\n",
        "for i in range(n):\n",
        "    print(i)"
      ],
      "metadata": {
        "colab": {
          "base_uri": "https://localhost:8080/"
        },
        "id": "NMqGGn15lbym",
        "outputId": "73b1949d-0d6e-4168-c72a-80c8796b16e8"
      },
      "execution_count": null,
      "outputs": [
        {
          "output_type": "stream",
          "name": "stdout",
          "text": [
            "0\n",
            "1\n",
            "2\n",
            "3\n",
            "4\n"
          ]
        }
      ]
    },
    {
      "cell_type": "code",
      "source": [
        "# aivietnam\n",
        "\n",
        "n = 5\n",
        "total = 0\n",
        "for i in range(n):\n",
        "    total = total + i\n",
        "    print(total)"
      ],
      "metadata": {
        "colab": {
          "base_uri": "https://localhost:8080/"
        },
        "id": "iZ7xH24Blg3h",
        "outputId": "6f5af5c4-af98-451e-ed51-3972f141df83"
      },
      "execution_count": null,
      "outputs": [
        {
          "output_type": "stream",
          "name": "stdout",
          "text": [
            "0\n",
            "1\n",
            "3\n",
            "6\n",
            "10\n"
          ]
        }
      ]
    },
    {
      "cell_type": "code",
      "source": [
        "# aivietnam\n",
        "\n",
        "n = 10\n",
        "i = 0\n",
        "while i < n:\n",
        "    i = i + 1"
      ],
      "metadata": {
        "id": "UCSU1gU9BYxi"
      },
      "execution_count": null,
      "outputs": []
    },
    {
      "cell_type": "code",
      "source": [
        "# aivietnam\n",
        "\n",
        "n = 10\n",
        "i = 5\n",
        "total = 0\n",
        "while i < n:\n",
        "    total = total + i\n",
        "    i = i + 1"
      ],
      "metadata": {
        "id": "ft8DHZR5D-na"
      },
      "execution_count": null,
      "outputs": []
    },
    {
      "cell_type": "code",
      "source": [
        "# aivietnam\n",
        "\n",
        "S = [1, 2, 3]\n",
        "n = len(S)\n",
        "for i in range(n):\n",
        "    for j in range(n):\n",
        "        total = S[i] + S[j]\n",
        "        print(total)\n",
        "    print('- - - -')"
      ],
      "metadata": {
        "colab": {
          "base_uri": "https://localhost:8080/"
        },
        "id": "_l69P4hgUWmB",
        "outputId": "836fd8a0-9bb0-4953-80e0-6a6490923e9e"
      },
      "execution_count": null,
      "outputs": [
        {
          "output_type": "stream",
          "name": "stdout",
          "text": [
            "2\n",
            "3\n",
            "4\n",
            "- - - -\n",
            "3\n",
            "4\n",
            "5\n",
            "- - - -\n",
            "4\n",
            "5\n",
            "6\n",
            "- - - -\n"
          ]
        }
      ]
    },
    {
      "cell_type": "code",
      "execution_count": null,
      "metadata": {
        "id": "ivPPADTnu-Uu",
        "colab": {
          "base_uri": "https://localhost:8080/"
        },
        "outputId": "66b3f51d-f5a0-4781-d673-40995b904c08"
      },
      "outputs": [
        {
          "output_type": "stream",
          "name": "stdout",
          "text": [
            "1\n",
            "2\n"
          ]
        },
        {
          "output_type": "execute_result",
          "data": {
            "text/plain": [
              "2"
            ]
          },
          "metadata": {},
          "execution_count": 16
        }
      ],
      "source": [
        "# aivietnam\n",
        "\n",
        "def step_example1(n):\n",
        "    i = 1\n",
        "    count = 0\n",
        "    while i < n:\n",
        "        print(i)\n",
        "        i *= 2\n",
        "        count += 1\n",
        "    return count\n",
        "\n",
        "step_example1(3)"
      ]
    },
    {
      "cell_type": "code",
      "source": [
        "# aivietnam\n",
        "\n",
        "def step_example2(n):\n",
        "    i = 1\n",
        "    count = 0\n",
        "    while i < n:\n",
        "        print(i)\n",
        "        i *= 3\n",
        "        count += 1\n",
        "    return count\n",
        "\n",
        "step_example2(5)"
      ],
      "metadata": {
        "id": "YKJN2aBKwGhM",
        "colab": {
          "base_uri": "https://localhost:8080/"
        },
        "outputId": "15d5afa8-fc6f-4c0e-9ff4-4d6a20600a67"
      },
      "execution_count": null,
      "outputs": [
        {
          "output_type": "stream",
          "name": "stdout",
          "text": [
            "1\n",
            "3\n"
          ]
        },
        {
          "output_type": "execute_result",
          "data": {
            "text/plain": [
              "2"
            ]
          },
          "metadata": {},
          "execution_count": 18
        }
      ]
    },
    {
      "cell_type": "code",
      "source": [
        "# aivietnam\n",
        "\n",
        "def sum_example(S):\n",
        "    n = len(S)\n",
        "    total = 0\n",
        "    for i in range(n):\n",
        "        for j in range(1+i):\n",
        "            total += S[j]\n",
        "    return total\n",
        "\n",
        "S = [0, 1, 2, 3]\n",
        "sum_example(S)"
      ],
      "metadata": {
        "id": "rOWHW5ZjxMPp",
        "colab": {
          "base_uri": "https://localhost:8080/"
        },
        "outputId": "894c0ac8-fdb4-482a-e1bf-3ed3ea8958fd"
      },
      "execution_count": null,
      "outputs": [
        {
          "output_type": "execute_result",
          "data": {
            "text/plain": [
              "10"
            ]
          },
          "metadata": {},
          "execution_count": 20
        }
      ]
    },
    {
      "cell_type": "code",
      "source": [
        "# aivietnam\n",
        "\n",
        "def binary_search(array, key):\n",
        "    low = 0\n",
        "    high = len(arr) - 1\n",
        "    while low <= high:\n",
        "        mid = low + (high - low)//2\n",
        "        if arr[mid] == key:\n",
        "            return mid\n",
        "        elif arr[mid] < key:\n",
        "            low = mid + 1\n",
        "        else:\n",
        "            high = mid - 1\n",
        "    return -1\n",
        "\n",
        "\n",
        "arr = [1, 2, 10, 15, 23]\n",
        "key = 23\n",
        "binary_search(arr, key)"
      ],
      "metadata": {
        "id": "xpbnYEQ6HLWK",
        "colab": {
          "base_uri": "https://localhost:8080/"
        },
        "outputId": "6eb19cfa-d767-4cc1-a4a8-22e903932cc7"
      },
      "execution_count": null,
      "outputs": [
        {
          "output_type": "execute_result",
          "data": {
            "text/plain": [
              "4"
            ]
          },
          "metadata": {},
          "execution_count": 21
        }
      ]
    }
  ]
}