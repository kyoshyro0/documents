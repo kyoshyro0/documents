{
 "cells": [
  {
   "cell_type": "code",
   "execution_count": 1,
   "id": "3b2c613e",
   "metadata": {},
   "outputs": [],
   "source": [
    "class Node:\n",
    "    def __init__(self, data=None):\n",
    "        self.data = data\n",
    "        self.next = None"
   ]
  },
  {
   "cell_type": "code",
   "execution_count": 4,
   "id": "24810185",
   "metadata": {},
   "outputs": [],
   "source": [
    "n1 = Node(1)\n",
    "n2 = Node(2)\n",
    "n3 = Node(3)\n",
    "n4 = Node(4)\n",
    "\n",
    "n1.next = n2\n",
    "n2.next = n3\n",
    "n3.next = n4"
   ]
  },
  {
   "cell_type": "code",
   "execution_count": 10,
   "id": "81138add",
   "metadata": {},
   "outputs": [
    {
     "name": "stdout",
     "output_type": "stream",
     "text": [
      "1\n",
      "2\n",
      "3\n",
      "4\n"
     ]
    }
   ],
   "source": [
    "node = n1\n",
    "print(node.data)\n",
    "\n",
    "while (node := node.next) != None:\n",
    "    print(node.data)    "
   ]
  },
  {
   "cell_type": "code",
   "execution_count": null,
   "id": "f1bfc011",
   "metadata": {},
   "outputs": [],
   "source": []
  },
  {
   "cell_type": "code",
   "execution_count": null,
   "id": "d56fe04d",
   "metadata": {},
   "outputs": [],
   "source": []
  },
  {
   "cell_type": "code",
   "execution_count": null,
   "id": "b70f2aa3",
   "metadata": {},
   "outputs": [],
   "source": []
  },
  {
   "cell_type": "code",
   "execution_count": 15,
   "id": "8346cbac",
   "metadata": {},
   "outputs": [],
   "source": [
    "class Node:\n",
    "    def __init__(self, data=None):\n",
    "        self.data = data\n",
    "        self.next = None\n",
    "\n",
    "class SinglyLinkedList:\n",
    "    def __init__(self):\n",
    "        self.head = None\n",
    "        \n",
    "    def __iter__(self):\n",
    "        self.current = self.head\n",
    "        return self\n",
    "    \n",
    "    def __next__(self):\n",
    "        if self.current is not None:\n",
    "            node = self.current\n",
    "            \n",
    "            # update\n",
    "            self.current = self.current.next\n",
    "            \n",
    "            return node\n",
    "        else:\n",
    "            raise StopIteration"
   ]
  },
  {
   "cell_type": "code",
   "execution_count": 16,
   "id": "c013e97e",
   "metadata": {},
   "outputs": [],
   "source": [
    "n1 = Node(1)\n",
    "n2 = Node(2)\n",
    "n3 = Node(3)\n",
    "n4 = Node(4)\n",
    "\n",
    "n1.next = n2\n",
    "n2.next = n3\n",
    "n3.next = n4"
   ]
  },
  {
   "cell_type": "code",
   "execution_count": 17,
   "id": "eb059fe5",
   "metadata": {},
   "outputs": [],
   "source": [
    "llist = SinglyLinkedList()\n",
    "llist.head = n1"
   ]
  },
  {
   "cell_type": "code",
   "execution_count": 19,
   "id": "077d06a6",
   "metadata": {},
   "outputs": [
    {
     "name": "stdout",
     "output_type": "stream",
     "text": [
      "1\n",
      "2\n",
      "3\n",
      "4\n"
     ]
    }
   ],
   "source": [
    "for node in llist:\n",
    "    print(node.data)"
   ]
  },
  {
   "cell_type": "code",
   "execution_count": null,
   "id": "a5a8ab75",
   "metadata": {},
   "outputs": [],
   "source": []
  },
  {
   "cell_type": "code",
   "execution_count": null,
   "id": "d6b0cf3f",
   "metadata": {},
   "outputs": [],
   "source": []
  },
  {
   "cell_type": "code",
   "execution_count": 6,
   "id": "f578d278",
   "metadata": {},
   "outputs": [],
   "source": [
    "class Node:\n",
    "    def __init__(self, data=None):\n",
    "        self.data = data\n",
    "        self.next = None\n",
    "\n",
    "class SinglyLinkedList:\n",
    "    def __init__(self):\n",
    "        self.head = None\n",
    "        \n",
    "    def add(self, data):\n",
    "        newNode = Node(data)\n",
    "\n",
    "        # Update the new node\n",
    "        newNode.next = self.head\n",
    "        self.head = newNode"
   ]
  },
  {
   "cell_type": "code",
   "execution_count": 7,
   "id": "b563517c",
   "metadata": {},
   "outputs": [],
   "source": [
    "# create a linked list\n",
    "linkedList = SinglyLinkedList()\n",
    "\n",
    "# create three nodes\n",
    "n1 = Node('Mon')\n",
    "n2 = Node('Tue')\n",
    "n3 = Node('Wed')\n",
    "\n",
    "# set head\n",
    "linkedList.head = n1\n",
    "\n",
    "# Link nodes\n",
    "n1.next = n2\n",
    "n2.next = n3"
   ]
  },
  {
   "cell_type": "code",
   "execution_count": 8,
   "id": "7bad524e",
   "metadata": {},
   "outputs": [
    {
     "name": "stdout",
     "output_type": "stream",
     "text": [
      "Mon\n",
      "Tue\n",
      "Wed\n"
     ]
    }
   ],
   "source": [
    "# print a list\n",
    "node = linkedList.head\n",
    "while(True):\n",
    "    if (node == None):\n",
    "        break\n",
    "    print(node.data)\n",
    "    node = node.next"
   ]
  },
  {
   "cell_type": "code",
   "execution_count": null,
   "id": "74f37e3a",
   "metadata": {},
   "outputs": [],
   "source": []
  },
  {
   "cell_type": "code",
   "execution_count": null,
   "id": "7a57abbc",
   "metadata": {},
   "outputs": [],
   "source": []
  },
  {
   "cell_type": "code",
   "execution_count": null,
   "id": "e124f485",
   "metadata": {},
   "outputs": [],
   "source": []
  },
  {
   "cell_type": "code",
   "execution_count": null,
   "id": "06bb55e9",
   "metadata": {},
   "outputs": [],
   "source": []
  },
  {
   "cell_type": "code",
   "execution_count": 4,
   "id": "981e4020",
   "metadata": {},
   "outputs": [],
   "source": [
    "class Node:\n",
    "    def __init__(self, data=None):\n",
    "        self.data = data\n",
    "        self.next = None\n",
    "\n",
    "class SinglyLinkedList:\n",
    "    def __init__(self):\n",
    "        self.head = None\n",
    "        \n",
    "    def add(self, data):\n",
    "        newNode = Node(data)\n",
    "\n",
    "        # Update the new node\n",
    "        newNode.next = self.head\n",
    "        self.head = newNode"
   ]
  },
  {
   "cell_type": "code",
   "execution_count": 5,
   "id": "bbb7be8c",
   "metadata": {},
   "outputs": [],
   "source": [
    "# create a linked list\n",
    "linkedList = SinglyLinkedList()\n",
    "\n",
    "# add three nodes\n",
    "linkedList.add('Mon')\n",
    "linkedList.add('Tue')\n",
    "linkedList.add('Wed')"
   ]
  },
  {
   "cell_type": "code",
   "execution_count": 6,
   "id": "f8aa7ecb",
   "metadata": {},
   "outputs": [
    {
     "name": "stdout",
     "output_type": "stream",
     "text": [
      "Wed\n",
      "Tue\n",
      "Mon\n"
     ]
    }
   ],
   "source": [
    "# print a list\n",
    "node = linkedList.head\n",
    "while(node is not None):\n",
    "    print(node.data)\n",
    "    node = node.next"
   ]
  },
  {
   "cell_type": "code",
   "execution_count": 7,
   "id": "ebc53213",
   "metadata": {},
   "outputs": [
    {
     "ename": "TypeError",
     "evalue": "'SingleLinkedList' object is not iterable",
     "output_type": "error",
     "traceback": [
      "\u001b[1;31m---------------------------------------------------------------------------\u001b[0m",
      "\u001b[1;31mTypeError\u001b[0m                                 Traceback (most recent call last)",
      "Input \u001b[1;32mIn [7]\u001b[0m, in \u001b[0;36m<cell line: 1>\u001b[1;34m()\u001b[0m\n\u001b[1;32m----> 1\u001b[0m \u001b[38;5;28;01mfor\u001b[39;00m node \u001b[38;5;129;01min\u001b[39;00m linkedList:\n\u001b[0;32m      2\u001b[0m     \u001b[38;5;28mprint\u001b[39m(node\u001b[38;5;241m.\u001b[39mdata)\n",
      "\u001b[1;31mTypeError\u001b[0m: 'SingleLinkedList' object is not iterable"
     ]
    }
   ],
   "source": [
    "for node in linkedList:\n",
    "    print(node.data)"
   ]
  },
  {
   "cell_type": "code",
   "execution_count": null,
   "id": "72a8fa49",
   "metadata": {},
   "outputs": [],
   "source": []
  },
  {
   "cell_type": "code",
   "execution_count": null,
   "id": "234b7c02",
   "metadata": {},
   "outputs": [],
   "source": [
    "class Node:\n",
    "    def __init__(self, data=None):\n",
    "        self.data = data\n",
    "        self.next = None"
   ]
  },
  {
   "cell_type": "code",
   "execution_count": 1,
   "id": "608a853e",
   "metadata": {},
   "outputs": [],
   "source": [
    "class SinglyLinkedList:\n",
    "    def __init__(self):\n",
    "        self.head = None        \n",
    "        \n",
    "    def add(self, data):\n",
    "        newNode = Node(data)\n",
    "        newNode.next = self.head\n",
    "        \n",
    "        self.head = newNode\n",
    "        \n",
    "    def __iter__(self):\n",
    "        self.current = self.head\n",
    "        return self\n",
    "    \n",
    "    def __next__(self):\n",
    "        if self.current is not None:\n",
    "            node = self.current\n",
    "            self.current = self.current.next\n",
    "            \n",
    "            return node\n",
    "        else:\n",
    "            raise StopIteration"
   ]
  },
  {
   "cell_type": "code",
   "execution_count": 2,
   "id": "97a688bb",
   "metadata": {},
   "outputs": [],
   "source": [
    "# create a linked list\n",
    "linkedList = SinglyLinkedList()\n",
    "\n",
    "# add three nodes\n",
    "linkedList.add('Mon')\n",
    "linkedList.add('Tue')\n",
    "linkedList.add('Wed')"
   ]
  },
  {
   "cell_type": "code",
   "execution_count": 3,
   "id": "6a7d6e0e",
   "metadata": {},
   "outputs": [
    {
     "name": "stdout",
     "output_type": "stream",
     "text": [
      "Wed\n",
      "Tue\n",
      "Mon\n"
     ]
    }
   ],
   "source": [
    "for node in linkedList:\n",
    "    print(node.data)"
   ]
  },
  {
   "cell_type": "code",
   "execution_count": null,
   "id": "5db4603b",
   "metadata": {},
   "outputs": [],
   "source": []
  }
 ],
 "metadata": {
  "kernelspec": {
   "display_name": "Python 3 (ipykernel)",
   "language": "python",
   "name": "python3"
  },
  "language_info": {
   "codemirror_mode": {
    "name": "ipython",
    "version": 3
   },
   "file_extension": ".py",
   "mimetype": "text/x-python",
   "name": "python",
   "nbconvert_exporter": "python",
   "pygments_lexer": "ipython3",
   "version": "3.9.12"
  }
 },
 "nbformat": 4,
 "nbformat_minor": 5
}
