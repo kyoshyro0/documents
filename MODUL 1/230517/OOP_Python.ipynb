{
  "nbformat": 4,
  "nbformat_minor": 0,
  "metadata": {
    "colab": {
      "provenance": []
    },
    "kernelspec": {
      "name": "python3",
      "display_name": "Python 3"
    },
    "language_info": {
      "name": "python"
    }
  },
  "cells": [
    {
      "cell_type": "code",
      "source": [
        "# phát triển chương trình làm bánh NY Style Sauce and Cheese Pizza\n",
        "\n",
        "\n",
        "def prepare():\n",
        "    print(\"1. Prepare ingredient for making NY Style Pizza\")\n",
        "    print(\"Tossing dough\")\n",
        "    print(\"Adding sauce\")\n",
        "    print(\"Adding topping: Grated Reggiano cheese\")\n",
        "    \n",
        "def bake():\n",
        "    print(\"2. Bake for 25 minutes at 150 oC\")\n",
        "    \n",
        "def cut():\n",
        "    print(\"3. Cutting the pizza into diagonal slices\")\n",
        "    \n",
        "def box():\n",
        "    print(\"4. Place pizza in official PizzaStore box\")\n",
        "    \n",
        "#bước 1 - chuẩn bị thành phần làm bánh\n",
        "prepare()\n",
        "#bước 2 - nấu bánh\n",
        "bake()\n",
        "#bước 3 - cắt bánh thành các lát chéo\n",
        "cut()\n",
        "#bước 4 - đóng gói\n",
        "box()\n",
        "\n",
        "    \n",
        "\n",
        "\n",
        "\n"
      ],
      "metadata": {
        "colab": {
          "base_uri": "https://localhost:8080/"
        },
        "id": "vyyuUHdrIiem",
        "outputId": "407a0137-d8d7-4e44-cf05-93b13b6a23b6"
      },
      "execution_count": 1,
      "outputs": [
        {
          "output_type": "stream",
          "name": "stdout",
          "text": [
            "1. Prepare ingredient for making NY Style Pizza\n",
            "Tossing dough\n",
            "Adding sauce\n",
            "Adding topping: Grated Reggiano cheese\n",
            "2. Bake for 25 minutes at 150 oC\n",
            "3. Cutting the pizza into diagonal slices\n",
            "4. Place pizza in official PizzaStore box\n"
          ]
        }
      ]
    },
    {
      "cell_type": "code",
      "source": [
        "#Declare class\n",
        "class Dog:\n",
        "    \n",
        "    # __init__ is known as the constructor\n",
        "    def __init__(self, newBreed):\n",
        "        self.breed = newBreed\n",
        "\n",
        "# Object instantiation\n",
        "rodger = Dog(\"USA\")\n",
        "tommy = Dog(\"Japan\")\n"
      ],
      "metadata": {
        "id": "n6nwuCdA8o9u"
      },
      "execution_count": 2,
      "outputs": []
    },
    {
      "cell_type": "code",
      "source": [
        "#Declare class\n",
        "class Dog:\n",
        "    \n",
        "    # __init__ is known as the constructor\n",
        "    def __init__(self, newBreed, newSize, newAge, newColor):\n",
        "        self.breed = newBreed\n",
        "        self.size = newSize\n",
        "        self.age = newAge\n",
        "        self.color = newColor\n",
        "\n",
        "\n",
        "# Object instantiation\n",
        "rodger = Dog(\"USA\", 10, 2, \"Brown\")\n",
        "tommy = Dog(\"Japan\", 8, 1, \"Black\")\n"
      ],
      "metadata": {
        "id": "2UA1-_ERCacY"
      },
      "execution_count": 3,
      "outputs": []
    },
    {
      "cell_type": "code",
      "source": [
        "import os\n",
        "import torch\n",
        "from torch import nn\n",
        "from torch.utils.data import DataLoader\n",
        "from torchvision import datasets, transforms\n",
        "\n",
        "class NeuralNetwork(nn.Module):\n",
        "    def __init__(self):\n",
        "        super().__init__()\n",
        "        self.flatten = nn.Flatten()\n",
        "        self.linear_relu_stack = nn.Sequential(\n",
        "            nn.Linear(28*28, 512),\n",
        "            nn.ReLU(),\n",
        "            nn.Linear(512, 512),\n",
        "            nn.ReLU(),\n",
        "            nn.Linear(512, 10),\n",
        "        )\n",
        "\n",
        "    def forward(self, x):\n",
        "        x = self.flatten(x)\n",
        "        logits = self.linear_relu_stack(x)\n",
        "        return logits"
      ],
      "metadata": {
        "id": "hmPWz3_7acG2"
      },
      "execution_count": 5,
      "outputs": []
    },
    {
      "cell_type": "code",
      "source": [
        "device = \"cpu\"\n",
        "model = NeuralNetwork().to(device)\n",
        "print(model)"
      ],
      "metadata": {
        "colab": {
          "base_uri": "https://localhost:8080/"
        },
        "id": "bIhqgzKOdOGS",
        "outputId": "dfd38bf3-25c7-4dd9-b169-8231bfac44d7"
      },
      "execution_count": 7,
      "outputs": [
        {
          "output_type": "stream",
          "name": "stdout",
          "text": [
            "NeuralNetwork(\n",
            "  (flatten): Flatten(start_dim=1, end_dim=-1)\n",
            "  (linear_relu_stack): Sequential(\n",
            "    (0): Linear(in_features=784, out_features=512, bias=True)\n",
            "    (1): ReLU()\n",
            "    (2): Linear(in_features=512, out_features=512, bias=True)\n",
            "    (3): ReLU()\n",
            "    (4): Linear(in_features=512, out_features=10, bias=True)\n",
            "  )\n",
            ")\n"
          ]
        }
      ]
    },
    {
      "cell_type": "code",
      "source": [
        "X = torch.rand(1, 28, 28, device=device)\n",
        "logits = model(X)\n",
        "pred_probab = nn.Softmax(dim=1)(logits)\n",
        "y_pred = pred_probab.argmax(1)\n",
        "print(pred_probab)\n",
        "print(f\"Predicted class: {y_pred}\")"
      ],
      "metadata": {
        "colab": {
          "base_uri": "https://localhost:8080/"
        },
        "id": "BkUCsp3ReAc0",
        "outputId": "305854b5-1a6b-4195-d079-31185e97189e"
      },
      "execution_count": 10,
      "outputs": [
        {
          "output_type": "stream",
          "name": "stdout",
          "text": [
            "tensor([[0.0926, 0.1064, 0.1026, 0.0988, 0.0989, 0.1032, 0.1043, 0.0940, 0.1043,\n",
            "         0.0948]], grad_fn=<SoftmaxBackward0>)\n",
            "Predicted class: tensor([1])\n"
          ]
        }
      ]
    },
    {
      "cell_type": "markdown",
      "source": [
        "Access Modifiers in Python : Public, Private and Protected"
      ],
      "metadata": {
        "id": "A-yVSDb8JHsB"
      }
    },
    {
      "cell_type": "code",
      "source": [
        "#Declare class\n",
        "class Student:\n",
        "    \n",
        "    # __init__ is known as the constructor\n",
        "    def __init__(self, name):\n",
        "        self.id = id \n",
        "        self.name = name\n",
        "\n",
        "    def getName(self):\n",
        "      return self.name\n",
        "\n",
        "# Object instantiation\n",
        "vinh = Student(\"Nguyen Dinh Vinh\")\n",
        "print(\"Access public variable: \", vinh.name)\n",
        "print(\"Access public function: \", vinh.getName())\n"
      ],
      "metadata": {
        "colab": {
          "base_uri": "https://localhost:8080/"
        },
        "id": "uVRqrYnaJHFe",
        "outputId": "a6d6b8f2-a127-42c5-bb86-d82abfbd206c"
      },
      "execution_count": 14,
      "outputs": [
        {
          "output_type": "stream",
          "name": "stdout",
          "text": [
            "Access public variable:  Nguyen Dinh Vinh\n",
            "Access public function:  Nguyen Dinh Vinh\n"
          ]
        }
      ]
    },
    {
      "cell_type": "code",
      "source": [
        "\n",
        "# super class\n",
        "class Student:\n",
        "    # protected data members\n",
        "    _id = None\n",
        "    _name = None\n",
        "\n",
        "    # constructor\n",
        "    def __init__(self, id, name):\n",
        "        self._id = id\n",
        "        self._name = name\n",
        "\n",
        "    # protected member function\n",
        "    def _displayInformation(self):\n",
        "        # accessing protected data members\n",
        "        print(\"ID: \", self._id)\n",
        "        print(\"Name: \", self._name)\n",
        "\n",
        "\n",
        "# derived class\n",
        "class AIVNStudent(Student):\n",
        "    # constructor\n",
        "    def __init__(self, id, name, researchField):\n",
        "        self._researchField = researchField\n",
        "        Student.__init__(self, id, name)\n",
        "\n",
        "    # private member function\n",
        "    def _displayDetails(self):\n",
        "        # accessing protected member functions of super class\n",
        "        self._displayInformation()\n",
        "\n",
        "        # accessing private data members of child class\n",
        "        print(\"Research Field: \", self._researchField)\n",
        "\n",
        "# creating objects of the derived class\n",
        "obj = AIVNStudent(23032023, \"Nguyen Dinh Vinh\", \"Computer Vision\")\n",
        "\n",
        "# calling public member functions of the class\n",
        "obj._displayDetails()\n"
      ],
      "metadata": {
        "colab": {
          "base_uri": "https://localhost:8080/"
        },
        "id": "9eGsYnBcRjUN",
        "outputId": "4d0d4012-74e0-4bcc-8d8f-f3559ca239c8"
      },
      "execution_count": 12,
      "outputs": [
        {
          "output_type": "stream",
          "name": "stdout",
          "text": [
            "ID:  23032023\n",
            "Name:  Nguyen Dinh Vinh\n",
            "Research Field:  Computer Vision\n"
          ]
        }
      ]
    },
    {
      "cell_type": "code",
      "source": [
        "import numpy as np\n",
        "\n",
        "#compute sigmoid value of x\n",
        "def sigmoid(x):\n",
        "    return 1.0/ (1.0 + np.exp(-x))\n",
        "    \n",
        "#compute tanh value of x\n",
        "def tanh(x):\n",
        "    return (exp(x)-exp(-x))/(exp(x)+exp(-x))\n",
        "    \n",
        "#compute relu value of x\n",
        "def relu(x):\n",
        "    return max(0.0, x)"
      ],
      "metadata": {
        "id": "yn_GFBlMFFe5"
      },
      "execution_count": null,
      "outputs": []
    },
    {
      "cell_type": "markdown",
      "source": [
        "Aggregation"
      ],
      "metadata": {
        "id": "R7mGVW1GH6Eu"
      }
    },
    {
      "cell_type": "code",
      "source": [
        "\n",
        "class Salary:\n",
        "\tdef __init__(self, pay, bonus):\n",
        "\t\tself.pay = pay\n",
        "\t\tself.bonus = bonus\n",
        "\n",
        "\tdef computeAnnualSalary(self):\n",
        "\t\treturn (self.pay*12)+self.bonus\n",
        "\n",
        "class Employee:\n",
        "\tdef __init__(self, name, age, salary):\n",
        "\t\tself.name = name\n",
        "\t\tself.age = age\n",
        "\t\tself.salary = salary # composition\n",
        "\t\t\n",
        "\tdef total_sal(self):\n",
        "\t\treturn self.salary.computeAnnualSalary()\n",
        "\n",
        "salary = Salary(10000, 1500)\n",
        "emp = Employee('AIVN', 25, salary)\n",
        "print(emp.total_sal())\n"
      ],
      "metadata": {
        "id": "U8taJtjBC7Sa"
      },
      "execution_count": null,
      "outputs": []
    },
    {
      "cell_type": "markdown",
      "source": [
        "Composition"
      ],
      "metadata": {
        "id": "brF4lfNPH8VY"
      }
    },
    {
      "cell_type": "code",
      "source": [
        "\n",
        "class Salary:\n",
        "\tdef __init__(self, pay, bonus):\n",
        "\t\tself.pay = pay\n",
        "\t\tself.bonus = bonus\n",
        "\n",
        "\tdef computeAnnualSalary(self):\n",
        "\t\treturn (self.pay*12)+self.bonus\n",
        "\n",
        "class Employee:\n",
        "\tdef __init__(self, name, age, pay, bonus):\n",
        "\t\tself.name = name\n",
        "\t\tself.age = age\n",
        "\t\tself.salary = Salary(pay, bonus) # composition\n",
        "\t\t\n",
        "\tdef total_sal(self):\n",
        "\t\treturn self.salary.computeAnnualSalary()\n",
        "\n",
        "emp = Employee('AIVN', 25 ,10000, 1500)\n",
        "print(emp.total_sal())\n"
      ],
      "metadata": {
        "id": "_SzAcJmkH4F6"
      },
      "execution_count": null,
      "outputs": []
    }
  ]
}