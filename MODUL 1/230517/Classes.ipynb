{
 "cells": [
  {
   "cell_type": "markdown",
   "metadata": {},
   "source": [
    "## Classes and Objects"
   ]
  },
  {
   "cell_type": "markdown",
   "metadata": {},
   "source": [
    "### class and instance attribute"
   ]
  },
  {
   "cell_type": "code",
   "execution_count": 13,
   "metadata": {},
   "outputs": [
    {
     "name": "stdout",
     "output_type": "stream",
     "text": [
      "Rodger is a mammal\n",
      "Tommy is also a mammal\n",
      "My name is Rodger\n",
      "My category is mammal\n",
      "My name is Tommy\n",
      "My category is mammal\n"
     ]
    }
   ],
   "source": [
    "class Dog:\n",
    "    # class attribute\n",
    "    # for constants\n",
    "    category = \"mammal\"\n",
    "    \n",
    "    # Instance attribute\n",
    "    # __init__ is known as the constructor\n",
    "    def __init__(self, name):\n",
    "        self.name = name\n",
    "\n",
    "# Object instantiation\n",
    "rodger = Dog(\"Rodger\")\n",
    "tommy = Dog(\"Tommy\")\n",
    "  \n",
    "# Accessing class attributes\n",
    "print(f\"Rodger is a {Dog.category}\")\n",
    "print(f\"Tommy is also a {Dog.category}\")\n",
    "  \n",
    "# Accessing instance attributes\n",
    "print(f\"My name is {rodger.name}\")\n",
    "print(f\"My category is {rodger.category}\")\n",
    "\n",
    "print(f\"My name is {tommy.name}\")\n",
    "print(f\"My category is {tommy.category}\")"
   ]
  },
  {
   "cell_type": "code",
   "execution_count": null,
   "metadata": {},
   "outputs": [],
   "source": []
  },
  {
   "cell_type": "code",
   "execution_count": 5,
   "metadata": {},
   "outputs": [],
   "source": [
    "# another example\n",
    "class Point:\n",
    "    # class attribute\n",
    "    x = 0\n",
    "    y = 0"
   ]
  },
  {
   "cell_type": "code",
   "execution_count": 7,
   "metadata": {},
   "outputs": [
    {
     "name": "stdout",
     "output_type": "stream",
     "text": [
      "0\n",
      "0\n",
      "5\n",
      "7\n"
     ]
    }
   ],
   "source": [
    "point = Point()\n",
    "print(point.x)\n",
    "print(point.y)\n",
    "      \n",
    "point.x = 5\n",
    "point.y = 7\n",
    "print(point.x)\n",
    "print(point.y)"
   ]
  },
  {
   "cell_type": "code",
   "execution_count": null,
   "metadata": {},
   "outputs": [],
   "source": []
  },
  {
   "cell_type": "code",
   "execution_count": 14,
   "metadata": {},
   "outputs": [],
   "source": [
    "# another example\n",
    "class Point:\n",
    "    # class attribute\n",
    "    x = 0\n",
    "    y = 0\n",
    "    \n",
    "    def __init__(self, xi, yi):\n",
    "        Point.x = xi\n",
    "        Point.y = yi"
   ]
  },
  {
   "cell_type": "code",
   "execution_count": 15,
   "metadata": {},
   "outputs": [
    {
     "name": "stdout",
     "output_type": "stream",
     "text": [
      "4\n",
      "5\n"
     ]
    }
   ],
   "source": [
    "point = Point(4, 5)\n",
    "print(point.x)\n",
    "print(point.y)"
   ]
  },
  {
   "cell_type": "code",
   "execution_count": null,
   "metadata": {},
   "outputs": [],
   "source": []
  },
  {
   "cell_type": "code",
   "execution_count": 16,
   "metadata": {},
   "outputs": [],
   "source": [
    "class Point:\n",
    "    # Instance attribute\n",
    "    def __init__(self, x, y):\n",
    "        self.x = x\n",
    "        self.y = y"
   ]
  },
  {
   "cell_type": "code",
   "execution_count": 17,
   "metadata": {},
   "outputs": [
    {
     "name": "stdout",
     "output_type": "stream",
     "text": [
      "4\n",
      "5\n"
     ]
    }
   ],
   "source": [
    "point = Point(4, 5)\n",
    "print(point.x)\n",
    "print(point.y)"
   ]
  },
  {
   "cell_type": "code",
   "execution_count": null,
   "metadata": {},
   "outputs": [],
   "source": []
  },
  {
   "cell_type": "markdown",
   "metadata": {},
   "source": [
    "### constructor"
   ]
  },
  {
   "cell_type": "code",
   "execution_count": 52,
   "metadata": {},
   "outputs": [],
   "source": [
    "class Point:\n",
    "    def __init__(self, x, y):\n",
    "        self.x = x\n",
    "        self.y = y\n",
    "        \n",
    "    def sum(self):\n",
    "        return self.x + self.y\n",
    "    \n",
    "    def __call__(self, value):\n",
    "        return self.x*self.y + value"
   ]
  },
  {
   "cell_type": "code",
   "execution_count": 53,
   "metadata": {},
   "outputs": [
    {
     "name": "stdout",
     "output_type": "stream",
     "text": [
      "4\n",
      "5\n"
     ]
    }
   ],
   "source": [
    "point = Point(4, 5)\n",
    "print(point.x)\n",
    "print(point.y)"
   ]
  },
  {
   "cell_type": "code",
   "execution_count": null,
   "metadata": {},
   "outputs": [],
   "source": []
  },
  {
   "cell_type": "markdown",
   "metadata": {},
   "source": [
    "### methods"
   ]
  },
  {
   "cell_type": "code",
   "execution_count": 19,
   "metadata": {},
   "outputs": [],
   "source": [
    "class Point:\n",
    "    def __init__(self, x, y):\n",
    "        self.x = x\n",
    "        self.y = y\n",
    "        \n",
    "    def sum(self):\n",
    "        return self.x + self.y\n",
    "    \n",
    "    def __call__(self, value):\n",
    "        return self.x*self.y + value"
   ]
  },
  {
   "cell_type": "code",
   "execution_count": 3,
   "metadata": {},
   "outputs": [],
   "source": [
    "class Point:\n",
    "    def __init__(self, x, y):\n",
    "        self.x = x\n",
    "        self.y = y\n",
    "        \n",
    "    def sum(self):\n",
    "        return self.x + self.y\n",
    "    \n",
    "    def call(self, value):\n",
    "        return self.x*self.y + value"
   ]
  },
  {
   "cell_type": "code",
   "execution_count": 4,
   "metadata": {},
   "outputs": [
    {
     "name": "stdout",
     "output_type": "stream",
     "text": [
      "9\n"
     ]
    },
    {
     "ename": "TypeError",
     "evalue": "'Point' object is not callable",
     "output_type": "error",
     "traceback": [
      "\u001b[1;31m---------------------------------------------------------------------------\u001b[0m",
      "\u001b[1;31mTypeError\u001b[0m                                 Traceback (most recent call last)",
      "Input \u001b[1;32mIn [4]\u001b[0m, in \u001b[0;36m<cell line: 3>\u001b[1;34m()\u001b[0m\n\u001b[0;32m      1\u001b[0m point \u001b[38;5;241m=\u001b[39m Point(\u001b[38;5;241m4\u001b[39m, \u001b[38;5;241m5\u001b[39m)\n\u001b[0;32m      2\u001b[0m \u001b[38;5;28mprint\u001b[39m(point\u001b[38;5;241m.\u001b[39msum())\n\u001b[1;32m----> 3\u001b[0m \u001b[38;5;28mprint\u001b[39m(\u001b[43mpoint\u001b[49m\u001b[43m(\u001b[49m\u001b[38;5;241;43m9\u001b[39;49m\u001b[43m)\u001b[49m)\n",
      "\u001b[1;31mTypeError\u001b[0m: 'Point' object is not callable"
     ]
    }
   ],
   "source": [
    "point = Point(4, 5)\n",
    "print(point.sum())\n",
    "print(point(9))"
   ]
  },
  {
   "cell_type": "code",
   "execution_count": null,
   "metadata": {},
   "outputs": [],
   "source": []
  },
  {
   "cell_type": "code",
   "execution_count": 56,
   "metadata": {},
   "outputs": [
    {
     "name": "stdout",
     "output_type": "stream",
     "text": [
      "Square area is 25\n"
     ]
    }
   ],
   "source": [
    "class Square:\n",
    "    def __init__(self, side):\n",
    "        self.side = side\n",
    "        \n",
    "    def computeArea(self):\n",
    "        return self.side*self.side\n",
    "    \n",
    "# test sample: side=5 -> 25\n",
    "square = Square(5)\n",
    "area = square.computeArea()\n",
    "print(f'Square area is {area}')"
   ]
  },
  {
   "cell_type": "code",
   "execution_count": null,
   "metadata": {},
   "outputs": [],
   "source": []
  },
  {
   "cell_type": "markdown",
   "metadata": {},
   "source": [
    "### Access modifier"
   ]
  },
  {
   "cell_type": "code",
   "execution_count": 21,
   "metadata": {},
   "outputs": [
    {
     "name": "stdout",
     "output_type": "stream",
     "text": [
      "Calico\n",
      "Black, white, and brown\n",
      "2\n"
     ]
    }
   ],
   "source": [
    "#    Public Member: Accessible anywhere from otside oclass.\n",
    "#   Private Member: Accessible within the class\n",
    "# Protected Member: Accessible within the class and its sub-classes\n",
    "\n",
    "class Cat:\n",
    "    def __init__(self, name, color, age):\n",
    "        self.name = name\n",
    "        self.color = color\n",
    "        self.age = age \n",
    "        \n",
    "# test\n",
    "cat = Cat('Calico', 'Black, white, and brown', 2)\n",
    "print(cat.name)\n",
    "print(cat.color)\n",
    "print(cat.age)"
   ]
  },
  {
   "cell_type": "code",
   "execution_count": null,
   "metadata": {},
   "outputs": [],
   "source": []
  },
  {
   "cell_type": "code",
   "execution_count": 8,
   "metadata": {},
   "outputs": [
    {
     "name": "stdout",
     "output_type": "stream",
     "text": [
      "Calico\n",
      "Black, white, and brown\n"
     ]
    },
    {
     "ename": "AttributeError",
     "evalue": "'Cat' object has no attribute '__age'",
     "output_type": "error",
     "traceback": [
      "\u001b[1;31m---------------------------------------------------------------------------\u001b[0m",
      "\u001b[1;31mAttributeError\u001b[0m                            Traceback (most recent call last)",
      "Input \u001b[1;32mIn [8]\u001b[0m, in \u001b[0;36m<cell line: 11>\u001b[1;34m()\u001b[0m\n\u001b[0;32m      9\u001b[0m \u001b[38;5;28mprint\u001b[39m(cat\u001b[38;5;241m.\u001b[39mname)\n\u001b[0;32m     10\u001b[0m \u001b[38;5;28mprint\u001b[39m(cat\u001b[38;5;241m.\u001b[39mcolor)\n\u001b[1;32m---> 11\u001b[0m \u001b[38;5;28mprint\u001b[39m(\u001b[43mcat\u001b[49m\u001b[38;5;241;43m.\u001b[39;49m\u001b[43m__age\u001b[49m)\n",
      "\u001b[1;31mAttributeError\u001b[0m: 'Cat' object has no attribute '__age'"
     ]
    }
   ],
   "source": [
    "# private attribute\n",
    "class Cat:\n",
    "    def __init__(self, name, color, age):\n",
    "        self.name = name\n",
    "        self.color = color\n",
    "        self.__age = age # private\n",
    "        \n",
    "# test\n",
    "cat = Cat('Calico', 'Black, white, and brown', 2)\n",
    "print(cat.name)\n",
    "print(cat.color)\n",
    "print(cat.__age)"
   ]
  },
  {
   "cell_type": "code",
   "execution_count": null,
   "metadata": {},
   "outputs": [],
   "source": []
  },
  {
   "cell_type": "code",
   "execution_count": 10,
   "metadata": {},
   "outputs": [
    {
     "name": "stdout",
     "output_type": "stream",
     "text": [
      "Calico\n",
      "Black, white, and brown\n",
      "2\n"
     ]
    }
   ],
   "source": [
    "# private attribute\n",
    "\n",
    "class Cat:\n",
    "    def __init__(self, name, color, age):\n",
    "        self.name = name\n",
    "        self.color = color\n",
    "        self.__age = age\n",
    "        \n",
    "    def getAge(self):\n",
    "        return self.__age\n",
    "        \n",
    "# test\n",
    "cat = Cat('Calico', 'Black, white, and brown', 2)\n",
    "print(cat.name)\n",
    "print(cat.color)\n",
    "print(cat.getAge())"
   ]
  },
  {
   "cell_type": "code",
   "execution_count": null,
   "metadata": {},
   "outputs": [],
   "source": []
  },
  {
   "cell_type": "code",
   "execution_count": 4,
   "metadata": {},
   "outputs": [
    {
     "name": "stdout",
     "output_type": "stream",
     "text": [
      "Calico\n",
      "Japanese Bobtail\n"
     ]
    }
   ],
   "source": [
    "class Cat:\n",
    "    def __init__(self, name):\n",
    "        self.name = name\n",
    "                \n",
    "# test\n",
    "cat = Cat('Calico')\n",
    "print(cat.name)\n",
    "\n",
    "cat.name = 'Japanese Bobtail'\n",
    "print(cat.name)"
   ]
  },
  {
   "cell_type": "code",
   "execution_count": 4,
   "metadata": {},
   "outputs": [
    {
     "name": "stdout",
     "output_type": "stream",
     "text": [
      "Calico\n",
      "Japanese Bobtail\n"
     ]
    }
   ],
   "source": [
    "# step 1\n",
    "\n",
    "class Cat:\n",
    "    def __init__(self, name):\n",
    "        self.name = name\n",
    "        \n",
    "    def getName(self):\n",
    "        return self.name\n",
    "    \n",
    "    def setName(self, name):\n",
    "        self.name = name\n",
    "        \n",
    "# test\n",
    "cat = Cat('Calico')\n",
    "print(cat.getName())\n",
    "\n",
    "cat.setName('Japanese Bobtail')\n",
    "print(cat.getName())"
   ]
  },
  {
   "cell_type": "code",
   "execution_count": 2,
   "metadata": {},
   "outputs": [
    {
     "name": "stdout",
     "output_type": "stream",
     "text": [
      "Calico\n",
      "Japanese Bobtail\n"
     ]
    }
   ],
   "source": [
    "class Cat:\n",
    "    def __init__(self, name):\n",
    "        self.__name = name\n",
    "        \n",
    "    def getName(self):\n",
    "        return self.__name\n",
    "    \n",
    "    def setName(self, name):\n",
    "        self.__name = name\n",
    "        \n",
    "# test\n",
    "cat = Cat('Calico')\n",
    "print(cat.getName())\n",
    "\n",
    "cat.setName('Japanese Bobtail')\n",
    "print(cat.getName())"
   ]
  },
  {
   "cell_type": "code",
   "execution_count": 3,
   "metadata": {},
   "outputs": [
    {
     "ename": "AttributeError",
     "evalue": "'Cat' object has no attribute '__name'",
     "output_type": "error",
     "traceback": [
      "\u001b[1;31m---------------------------------------------------------------------------\u001b[0m",
      "\u001b[1;31mAttributeError\u001b[0m                            Traceback (most recent call last)",
      "Input \u001b[1;32mIn [3]\u001b[0m, in \u001b[0;36m<cell line: 1>\u001b[1;34m()\u001b[0m\n\u001b[1;32m----> 1\u001b[0m \u001b[38;5;28mprint\u001b[39m(\u001b[43mcat\u001b[49m\u001b[38;5;241;43m.\u001b[39;49m\u001b[43m__name\u001b[49m)\n",
      "\u001b[1;31mAttributeError\u001b[0m: 'Cat' object has no attribute '__name'"
     ]
    }
   ],
   "source": [
    "print(cat.__name)"
   ]
  },
  {
   "cell_type": "code",
   "execution_count": null,
   "metadata": {},
   "outputs": [],
   "source": []
  },
  {
   "cell_type": "code",
   "execution_count": 22,
   "metadata": {},
   "outputs": [
    {
     "name": "stdout",
     "output_type": "stream",
     "text": [
      "Name: Jessa 14\n",
      "Name: Jessa 16\n"
     ]
    }
   ],
   "source": [
    "class Student:\n",
    "    def __init__(self, name, age):\n",
    "        # private member\n",
    "        self.name = name\n",
    "        self.__age = age\n",
    "\n",
    "    # getter method\n",
    "    def get_age(self):\n",
    "        return self.__age\n",
    "\n",
    "    # setter method\n",
    "    def set_age(self, age):\n",
    "        self.__age = age\n",
    "\n",
    "stud = Student('Jessa', 14)\n",
    "\n",
    "# retrieving age using getter\n",
    "print('Name:', stud.name, stud.get_age())\n",
    "\n",
    "# changing age using setter\n",
    "stud.set_age(16)\n",
    "\n",
    "# retrieving age using getter\n",
    "print('Name:', stud.name, stud.get_age())"
   ]
  },
  {
   "cell_type": "code",
   "execution_count": null,
   "metadata": {},
   "outputs": [],
   "source": []
  },
  {
   "cell_type": "markdown",
   "metadata": {},
   "source": [
    "## Using class as a data type"
   ]
  },
  {
   "cell_type": "code",
   "execution_count": 40,
   "metadata": {},
   "outputs": [],
   "source": []
  },
  {
   "cell_type": "code",
   "execution_count": 41,
   "metadata": {},
   "outputs": [],
   "source": [
    "class Date:\n",
    "    def __init__(self, day, month, year):\n",
    "        self.__day = day\n",
    "        self.__month = month\n",
    "        self.__year = year\n",
    "        \n",
    "    def getDay(self):\n",
    "        return self.__day\n",
    "    \n",
    "    def getMonth(self):\n",
    "        return self.__month\n",
    "    \n",
    "    def getYear(self):\n",
    "        return self.__year"
   ]
  },
  {
   "cell_type": "code",
   "execution_count": null,
   "metadata": {},
   "outputs": [],
   "source": [
    "class Person:\n",
    "    def __init__(self, name, dateOfBirth):\n",
    "        self.__name = name\n",
    "        self.__dateOfBirth = dateOfBirth\n",
    "        \n",
    "    def describe(self):\n",
    "        # print name\n",
    "        print(self.__name)\n",
    "        \n",
    "        # print date\n",
    "        day = self.__dateOfBirth.getDay()\n",
    "        month = self.__dateOfBirth.getMonth()\n",
    "        year = self.__dateOfBirth.getYear()\n",
    "        print(f'{day}/{month}/{year}')"
   ]
  },
  {
   "cell_type": "code",
   "execution_count": 42,
   "metadata": {},
   "outputs": [
    {
     "name": "stdout",
     "output_type": "stream",
     "text": [
      "Peter\n",
      "10/1/2000\n"
     ]
    }
   ],
   "source": [
    "date = Date(10, 1, 2000)\n",
    "peter = Person('Peter', date)\n",
    "peter.describe()"
   ]
  },
  {
   "cell_type": "code",
   "execution_count": null,
   "metadata": {},
   "outputs": [],
   "source": []
  },
  {
   "cell_type": "code",
   "execution_count": null,
   "metadata": {},
   "outputs": [],
   "source": [
    "# aggregation"
   ]
  },
  {
   "cell_type": "code",
   "execution_count": 44,
   "metadata": {},
   "outputs": [],
   "source": [
    "class Date:\n",
    "    def __init__(self, day, month, year):\n",
    "        self.__day = day\n",
    "        self.__month = month\n",
    "        self.__year = year\n",
    "        \n",
    "    def getDay(self):\n",
    "        return self.__day\n",
    "    \n",
    "    def getMonth(self):\n",
    "        return self.__month\n",
    "    \n",
    "    def getYear(self):\n",
    "        return self.__year\n",
    "    \n",
    "    def describe(self):\n",
    "        print(f'{self.__day}/{self.__month}/{self.__year}')"
   ]
  },
  {
   "cell_type": "code",
   "execution_count": 45,
   "metadata": {},
   "outputs": [],
   "source": [
    "class Person:\n",
    "    def __init__(self, name, dateOfBirth):\n",
    "        self.__name = name\n",
    "        self.__dateOfBirth = dateOfBirth\n",
    "        \n",
    "    def describe(self):\n",
    "        # print name\n",
    "        print(self.__name)\n",
    "        \n",
    "        # print date\n",
    "        self.__dateOfBirth.describe()"
   ]
  },
  {
   "cell_type": "code",
   "execution_count": 46,
   "metadata": {},
   "outputs": [
    {
     "name": "stdout",
     "output_type": "stream",
     "text": [
      "Peter\n",
      "10/1/2000\n"
     ]
    }
   ],
   "source": [
    "date = Date(10, 1, 2000)\n",
    "peter = Person('Peter', date)\n",
    "peter.describe()"
   ]
  },
  {
   "cell_type": "code",
   "execution_count": null,
   "metadata": {},
   "outputs": [],
   "source": []
  },
  {
   "cell_type": "code",
   "execution_count": null,
   "metadata": {},
   "outputs": [],
   "source": []
  },
  {
   "cell_type": "code",
   "execution_count": null,
   "metadata": {},
   "outputs": [],
   "source": []
  },
  {
   "cell_type": "markdown",
   "metadata": {},
   "source": [
    "## Inheritance"
   ]
  },
  {
   "cell_type": "code",
   "execution_count": 11,
   "metadata": {},
   "outputs": [
    {
     "name": "stdout",
     "output_type": "stream",
     "text": [
      "Peter\n",
      "Name: Peter\n",
      "Salary: 200000\n"
     ]
    }
   ],
   "source": [
    "# parent class\n",
    "class Person(object):\n",
    "    # __init__ is known as the constructor\n",
    "    def __init__(self, name):\n",
    "        self.name = name\n",
    "\n",
    "    def display(self):\n",
    "        print(self.name)\n",
    "        \n",
    "    def details(self):\n",
    "        print(f'Name: {self.name}')\n",
    "\n",
    "# child class\n",
    "class Employee(Person):\n",
    "    def __init__(self, name, salary):\n",
    "        self.salary = salary\n",
    "\n",
    "        # invoking the __init__ of the parent class\n",
    "        Person.__init__(self, name)\n",
    "\n",
    "    def details(self):\n",
    "        print(f'Name: {self.name}')\n",
    "        print(f'Salary: {self.salary}')\n",
    "\n",
    "# test\n",
    "peter = Employee('Peter', 200000)\n",
    "peter.display()\n",
    "peter.details()"
   ]
  },
  {
   "cell_type": "code",
   "execution_count": null,
   "metadata": {},
   "outputs": [],
   "source": []
  },
  {
   "cell_type": "code",
   "execution_count": 13,
   "metadata": {},
   "outputs": [
    {
     "name": "stdout",
     "output_type": "stream",
     "text": [
      "Peter\n",
      "Name: Peter\n",
      "Salary: 200000\n"
     ]
    }
   ],
   "source": [
    "# protected attribute\n",
    "\n",
    "# parent class\n",
    "class Person(object):\n",
    "    # __init__ is known as the constructor\n",
    "    def __init__(self, name):\n",
    "        self._name = name\n",
    "\n",
    "    def display(self):\n",
    "        print(self._name)\n",
    "        \n",
    "    def details(self):\n",
    "        print(f'Name: {self._name}')\n",
    "\n",
    "# child class\n",
    "class Employee(Person):\n",
    "    def __init__(self, name, salary):\n",
    "        self.salary = salary\n",
    "\n",
    "        # invoking the __init__ of the parent class\n",
    "        Person.__init__(self, name)\n",
    "\n",
    "    def details(self):\n",
    "        print(f'Name: {self._name}')\n",
    "        print(f'Salary: {self.salary}')\n",
    "\n",
    "# test\n",
    "peter = Employee('Peter', 200000)\n",
    "peter.display()\n",
    "peter.details()"
   ]
  },
  {
   "cell_type": "code",
   "execution_count": null,
   "metadata": {},
   "outputs": [],
   "source": []
  },
  {
   "cell_type": "code",
   "execution_count": 2,
   "metadata": {},
   "outputs": [
    {
     "name": "stdout",
     "output_type": "stream",
     "text": [
      "Name: Calico\n"
     ]
    }
   ],
   "source": [
    "class Animal:\n",
    "    def __init__(self, name):\n",
    "        self._name = name\n",
    "        \n",
    "    def setName(self, name):\n",
    "        self._name = name\n",
    "        \n",
    "    def describe(self):\n",
    "        print(f'Name: {self._name}')\n",
    "        \n",
    "class Cat(Animal):\n",
    "    def __init__(self, name):\n",
    "        Animal.__init__(self, name)\n",
    "\n",
    "cat = Cat('Calico')\n",
    "cat.describe()"
   ]
  },
  {
   "cell_type": "code",
   "execution_count": null,
   "metadata": {},
   "outputs": [],
   "source": []
  },
  {
   "cell_type": "code",
   "execution_count": 8,
   "metadata": {},
   "outputs": [
    {
     "name": "stdout",
     "output_type": "stream",
     "text": [
      "Name: Calico\n"
     ]
    }
   ],
   "source": [
    "class Animal:\n",
    "    def __init__(self, name):\n",
    "        self._name = name\n",
    "        \n",
    "    def setName(self, name):\n",
    "        self._name = name\n",
    "        \n",
    "    def describe(self):\n",
    "        print(f'Name: {self._name}')\n",
    "        \n",
    "class Cat(Animal):\n",
    "    def __init__(self, name):\n",
    "        Animal.__init__(self, name)\n",
    "        super().describe()\n",
    "\n",
    "cat = Cat('Calico')\n",
    "#cat.describe()"
   ]
  },
  {
   "cell_type": "code",
   "execution_count": null,
   "metadata": {},
   "outputs": [],
   "source": []
  },
  {
   "cell_type": "code",
   "execution_count": null,
   "metadata": {},
   "outputs": [],
   "source": []
  },
  {
   "cell_type": "code",
   "execution_count": null,
   "metadata": {},
   "outputs": [],
   "source": []
  }
 ],
 "metadata": {
  "kernelspec": {
   "display_name": "Python 3 (ipykernel)",
   "language": "python",
   "name": "python3"
  },
  "language_info": {
   "codemirror_mode": {
    "name": "ipython",
    "version": 3
   },
   "file_extension": ".py",
   "mimetype": "text/x-python",
   "name": "python",
   "nbconvert_exporter": "python",
   "pygments_lexer": "ipython3",
   "version": "3.9.12"
  }
 },
 "nbformat": 4,
 "nbformat_minor": 2
}
