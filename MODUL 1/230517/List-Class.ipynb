{
 "cells": [
  {
   "cell_type": "code",
   "execution_count": 1,
   "id": "6d6e7f34",
   "metadata": {},
   "outputs": [
    {
     "name": "stdout",
     "output_type": "stream",
     "text": [
      "[1, 3, 4, 5, 7, 9]\n"
     ]
    }
   ],
   "source": [
    "aList = [1, 5, 3, 7, 4, 9]\n",
    "aList.sort()\n",
    "print(aList)"
   ]
  },
  {
   "cell_type": "code",
   "execution_count": null,
   "id": "a9846ac7",
   "metadata": {},
   "outputs": [],
   "source": []
  },
  {
   "cell_type": "code",
   "execution_count": 3,
   "id": "fc2e7d5f",
   "metadata": {},
   "outputs": [],
   "source": [
    "class Square:\n",
    "    def __init__(self, side):\n",
    "        self.side = side\n",
    "        \n",
    "    def computeArea(self):\n",
    "        return self.side*self.side\n",
    "    \n",
    "    def describe(self):\n",
    "        print(f'Side is {self.side}')"
   ]
  },
  {
   "cell_type": "code",
   "execution_count": 4,
   "id": "a1e867d9",
   "metadata": {},
   "outputs": [
    {
     "name": "stdout",
     "output_type": "stream",
     "text": [
      "Side is 3\n",
      "Side is 8\n",
      "Side is 1\n",
      "Side is 6\n",
      "Side is 5\n"
     ]
    }
   ],
   "source": [
    "s1 = Square(3)\n",
    "s2 = Square(8)\n",
    "s3 = Square(1)\n",
    "s4 = Square(6)\n",
    "s5 = Square(5)\n",
    "\n",
    "aList = [s1, s2, s3, s4, s5]\n",
    "for square in aList:\n",
    "    square.describe()"
   ]
  },
  {
   "cell_type": "code",
   "execution_count": 5,
   "id": "baffd21a",
   "metadata": {},
   "outputs": [
    {
     "ename": "TypeError",
     "evalue": "'<' not supported between instances of 'Square' and 'Square'",
     "output_type": "error",
     "traceback": [
      "\u001b[1;31m---------------------------------------------------------------------------\u001b[0m",
      "\u001b[1;31mTypeError\u001b[0m                                 Traceback (most recent call last)",
      "Input \u001b[1;32mIn [5]\u001b[0m, in \u001b[0;36m<cell line: 1>\u001b[1;34m()\u001b[0m\n\u001b[1;32m----> 1\u001b[0m \u001b[43maList\u001b[49m\u001b[38;5;241;43m.\u001b[39;49m\u001b[43msort\u001b[49m\u001b[43m(\u001b[49m\u001b[43m)\u001b[49m\n\u001b[0;32m      2\u001b[0m \u001b[38;5;28;01mfor\u001b[39;00m square \u001b[38;5;129;01min\u001b[39;00m aList:\n\u001b[0;32m      3\u001b[0m     square\u001b[38;5;241m.\u001b[39mdescribe()\n",
      "\u001b[1;31mTypeError\u001b[0m: '<' not supported between instances of 'Square' and 'Square'"
     ]
    }
   ],
   "source": [
    "aList.sort()\n",
    "for square in aList:\n",
    "    square.describe()"
   ]
  },
  {
   "cell_type": "code",
   "execution_count": null,
   "id": "3c51a0f6",
   "metadata": {},
   "outputs": [],
   "source": []
  },
  {
   "cell_type": "code",
   "execution_count": null,
   "id": "f36b16b1",
   "metadata": {},
   "outputs": [],
   "source": [
    "class Square:\n",
    "    def __init__(self, side):\n",
    "        self.side = side\n",
    "        \n",
    "    def computeArea(self):\n",
    "        return self.side*self.side\n",
    "    \n",
    "    def describe(self):\n",
    "        print(f'Side is {self.side}')"
   ]
  },
  {
   "cell_type": "code",
   "execution_count": null,
   "id": "2cafe146",
   "metadata": {},
   "outputs": [],
   "source": [
    "s1 = Square(3)\n",
    "s2 = Square(8)\n",
    "s3 = Square(1)\n",
    "s4 = Square(6)\n",
    "s5 = Square(5)\n",
    "\n",
    "aList = [s1, s2, s3, s4, s5]\n",
    "aList.sort(key=lambda x: x.side)\n",
    "for square in aList:\n",
    "    square.describe()"
   ]
  },
  {
   "cell_type": "code",
   "execution_count": null,
   "id": "12e18a7d",
   "metadata": {},
   "outputs": [],
   "source": []
  },
  {
   "cell_type": "code",
   "execution_count": null,
   "id": "a9752449",
   "metadata": {},
   "outputs": [],
   "source": [
    "s1 = Square(3)\n",
    "s2 = Square(8)\n",
    "s3 = Square(1)\n",
    "s4 = Square(6)\n",
    "s5 = Square(5)\n",
    "\n",
    "aList = [s1, s2, s3, s4, s5]"
   ]
  },
  {
   "cell_type": "code",
   "execution_count": null,
   "id": "e1e6061c",
   "metadata": {},
   "outputs": [],
   "source": [
    "def compare(x):\n",
    "    return x.side\n",
    "\n",
    "aList.sort(key=compare)\n",
    "for square in aList:\n",
    "    square.describe()"
   ]
  },
  {
   "cell_type": "code",
   "execution_count": null,
   "id": "9ffbf926",
   "metadata": {},
   "outputs": [],
   "source": []
  }
 ],
 "metadata": {
  "kernelspec": {
   "display_name": "Python 3 (ipykernel)",
   "language": "python",
   "name": "python3"
  },
  "language_info": {
   "codemirror_mode": {
    "name": "ipython",
    "version": 3
   },
   "file_extension": ".py",
   "mimetype": "text/x-python",
   "name": "python",
   "nbconvert_exporter": "python",
   "pygments_lexer": "ipython3",
   "version": "3.9.12"
  }
 },
 "nbformat": 4,
 "nbformat_minor": 5
}
